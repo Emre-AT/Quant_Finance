{
 "cells": [
  {
   "cell_type": "code",
   "execution_count": null,
   "id": "87e8c40d",
   "metadata": {},
   "outputs": [],
   "source": [
    "import numpy as np\n",
    "from scipy.stats import norm\n",
    "from IPython.display import display\n",
    "import ipywidgets as widgets"
   ]
  },
  {
   "cell_type": "markdown",
   "id": "f8553540",
   "metadata": {},
   "source": [
    "# Black-Scholes\n",
    "The Black Scholes model is used to calculate the value of a European call or put option. The value of an option contract depends on the following:\n",
    "\n",
    " - S: Spot Price\n",
    " - K: Strike Price\n",
    " - T: Time to Expiry\n",
    " - $\\sigma$: Volatility \n",
    " - r: Risk-Free Rate\n",
    "\n",
    "$ C = S.N(d_{1}) - N(d_{2}).Ke^{-rT} $\n",
    "\n",
    "$P = Ke^{-rT}.N(-d_{2}) - S.N(-d_{1})$\n",
    "\n",
    "where\n",
    "\n",
    "$   d_{1} = \\frac{ln(\\frac{S}{K}) + (r + \\frac{\\sigma^{2}}{2})T}{\\sigma\\sqrt{T}}     $\n",
    "\n",
    "$d_{2} = d_{1} - \\sigma\\sqrt{T}$"
   ]
  },
  {
   "cell_type": "code",
   "execution_count": null,
   "id": "f08c004c",
   "metadata": {},
   "outputs": [],
   "source": [
    "  def Black_Scholes(type, S, K, T, sig, r):\n",
    "    d1 = (np.log(S / K) + (r + 0.5 * sig ** 2) * T) / (sig * np.sqrt(T))\n",
    "    d2 = d1 - sig * np.sqrt(T)\n",
    "    \n",
    "    if type == \"Call\":\n",
    "        price = S * norm.cdf(d1) - K * np.exp(-r * T) * norm.cdf(d2)\n",
    "    else:\n",
    "        price = K * np.exp(-r * T) * norm.cdf(-d2) - S * norm.cdf(-d1)\n",
    "        \n",
    "    return price"
   ]
  },
  {
   "cell_type": "markdown",
   "id": "86c08637",
   "metadata": {},
   "source": [
    "# Using Widgets for Visualization"
   ]
  },
  {
   "cell_type": "code",
   "execution_count": null,
   "id": "8caabf95",
   "metadata": {},
   "outputs": [],
   "source": [
    "def BSM_price_interactive():\n",
    "    option_widget = widgets.ToggleButtons(options=[\"Call\", \"Put\"],description='Option Type:',disabled=False,button_style='')\n",
    "    S_widget = widgets.FloatSlider(value=100,min=50,max=150,step=1,description='Spot Price:')\n",
    "    K_widget = widgets.FloatSlider(value=100,min=50,max=150,step=1,description='Strike Price:')\n",
    "    T_widget = widgets.FloatSlider(value=1,min=0.1,max=5,step=0.1,description='Time to Expiry (years):')\n",
    "    r_widget = widgets.FloatSlider(value=0.05,min=0,max=0.2,step=0.01,description='Risk-Free Rate:')\n",
    "    sigma_widget = widgets.FloatSlider(value=0.2,min=0,max=1,step=0.01,description='Volatility:')\n",
    "    \n",
    "    # Above we are making 2 buttons that read 'call' & 'put'\n",
    "    # Description is 'option type'\n",
    "    # disabled = False means that we can interact with the Widget\n",
    "    # button_style = '' default appereance for the buttons\n",
    "    # T is in years\n",
    "    # We now need to make sure that we have a display that conveys the value of the option price as we change the variables\n",
    "    outputs = widgets.Output()\n",
    "    \n",
    "    def update_price(*args): # *args allows us to input as many arguments as we want\n",
    "        with outputs:\n",
    "            outputs.clear_output() # this will clear the output when we change a variable\n",
    "            option_price = Black_Scholes(\n",
    "                type=option_widget.value,\n",
    "                S=S_widget.value,\n",
    "                K=K_widget.value,\n",
    "                T=T_widget.value,\n",
    "                sig=sigma_widget.value,\n",
    "                r=r_widget.value\n",
    "            )\n",
    "            print(f\"{option_widget.value} Option Price: {option_price:.2f}\")\n",
    "            \n",
    "    # observe method is used to specify the function that should be called wheneevr the widget's value changes.\n",
    "    # everytime we change a widgets value the function specified - in this case update_price - is called with the new val\n",
    "  \n",
    "    option_widget.observe(update_price, 'value')\n",
    "    S_widget.observe(update_price, 'value')\n",
    "    K_widget.observe(update_price, 'value')\n",
    "    T_widget.observe(update_price, 'value')\n",
    "    r_widget.observe(update_price, 'value')\n",
    "    sigma_widget.observe(update_price, 'value')     \n",
    "            \n",
    "    inputs = widgets.VBox([option_widget, S_widget, K_widget, T_widget, r_widget, sigma_widget])\n",
    "    \n",
    "    display(inputs, outputs)\n",
    "    \n",
    "BSM_price_interactive()\n"
   ]
  },
  {
   "cell_type": "code",
   "execution_count": null,
   "id": "7761c085",
   "metadata": {},
   "outputs": [],
   "source": []
  }
 ],
 "metadata": {
  "kernelspec": {
   "display_name": "Python 3 (ipykernel)",
   "language": "python",
   "name": "python3"
  },
  "language_info": {
   "codemirror_mode": {
    "name": "ipython",
    "version": 3
   },
   "file_extension": ".py",
   "mimetype": "text/x-python",
   "name": "python",
   "nbconvert_exporter": "python",
   "pygments_lexer": "ipython3",
   "version": "3.9.12"
  }
 },
 "nbformat": 4,
 "nbformat_minor": 5
}
