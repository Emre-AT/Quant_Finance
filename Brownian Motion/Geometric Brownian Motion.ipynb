{
 "cells": [
  {
   "cell_type": "markdown",
   "id": "86e9d32e",
   "metadata": {},
   "source": [
    "# Geometric Brownian Motion Simulation\n",
    "\n",
    "In this notebook we will be simulating the price behavior of a Stock at an initial price of 120.\n",
    "\n",
    "To understand how this works, we do need to understand the definition of the Brownian Motion."
   ]
  },
  {
   "attachments": {},
   "cell_type": "markdown",
   "id": "0b9ab09a",
   "metadata": {},
   "source": [
    "### Brownian Motion Definition: \n",
    "\n",
    "The stochastic process $ W := {W_t:t \\ge 0} $ is called a Brownian Motion if\n",
    "    \n",
    "1.) $ W(0) = 0 $\n",
    "    \n",
    "2.) for $ s \\le t, W_t - W_s $ is independent of the past history of W. The increments are independent of the past history of the process.\n",
    "\n",
    "3.) $ W $ has continuous sample paths.\n",
    "\n",
    "4.) $ W_t - W_s$ ~ $ W_{t-s} $ ~ $N(0,t-s)$ The Brownian Motion is normally distributed with zero mean and variance $ (t-s) $"
   ]
  },
  {
   "cell_type": "markdown",
   "id": "e7091b72",
   "metadata": {},
   "source": [
    "### Modeling Brownian Motion\n",
    "\n",
    "The model for an asset $S$ that takes any price at time $t$ that moves with GBM is usually represented with the equation below.\n",
    "\n",
    "$$ dS_t = \\mu S_tdt + \\sigma S_tdW_t $$\n",
    "\n",
    "Where $ \\mu $ is the drift and $ \\sigma $ is the volatility. \n",
    "\n",
    "Drift can be defined as the expected rate of return on the stock whereas the volatility is the standard deviation of log-returns."
   ]
  },
  {
   "cell_type": "markdown",
   "id": "a77dc4a0",
   "metadata": {},
   "source": [
    "This equation is known as a stochastic differential equation (SDE). And the solution of $S(t)$ requires an identity known as Ito's Lemma, which allows us to find the differential of a stochastic process.\n",
    "\n",
    "If you would like to take a deeper look into the solution of this SDE, have a look [here.](https://en.wikipedia.org/wiki/Geometric_Brownian_motion)"
   ]
  },
  {
   "cell_type": "markdown",
   "id": "e6cd0432",
   "metadata": {},
   "source": [
    "Application of Ito's Lemma to the above SDE would yield the following.\n",
    "\n",
    "$$ S_t = S_0e^{(\\mu - \\frac{\\sigma^2}{2})t + \\sigma W_t} $$\n",
    "\n",
    "Where $ S_0 \\gt 0 $\n",
    "\n"
   ]
  },
  {
   "cell_type": "markdown",
   "id": "ae789e5e",
   "metadata": {},
   "source": [
    "This is the equation that we need to model with our code in order to visualize the Brownian Motion. "
   ]
  },
  {
   "cell_type": "code",
   "execution_count": null,
   "id": "979933a3",
   "metadata": {},
   "outputs": [],
   "source": [
    "import math\n",
    "import numpy as np\n",
    "import matplotlib.pyplot as plt"
   ]
  },
  {
   "cell_type": "code",
   "execution_count": null,
   "id": "96a28ce8",
   "metadata": {},
   "outputs": [],
   "source": [
    "# We need to assign our parameters.\n",
    "\n",
    "S0 = 120 # initial stock price\n",
    "\n",
    "mu = 0.35 # drift parameter\n",
    "\n",
    "sigma = 0.55 # volatility parameter\n",
    "\n",
    "paths = 750 # how many times are we simulating the price. We will have 750 lines on our graph\n",
    "\n",
    "time = 1 # we would like to simulate this price behavior over one year.\n",
    "\n",
    "dt = 1/252 # we would like to simulate this behavior over one year every single day. 1/252 because there are 252\n",
    "#trading days in a year\n",
    "\n",
    "price_paths = [] # empty list to append later"
   ]
  },
  {
   "cell_type": "code",
   "execution_count": null,
   "id": "49e65bdf",
   "metadata": {},
   "outputs": [],
   "source": [
    "class GBM:\n",
    "    \n",
    "    def simulate_paths(self):\n",
    "        while(self.time - self.dt > 0):\n",
    "            Wt = np.random.normal(0,math.sqrt(self.dt)) #BM follow a normal dist. with 0 mean and time step as variance\n",
    "            Xt = self.mu*self.dt + self.sigma*Wt # change in price\n",
    "            self.S0 += Xt # keep adding the change to the initial price\n",
    "            self.prices.append(self.S0) # add new prices to a series\n",
    "            self.time -= self.dt # we account here for the time step\n",
    "            \n",
    "    def __init__ (self, S0, mu, sigma, dt, time):\n",
    "        self.S0 = S0\n",
    "        self.mu = mu\n",
    "        self.sigma = sigma\n",
    "        self.dt = dt\n",
    "        self.time = time\n",
    "        self.prices = [ ]\n",
    "        self.simulate_paths()       "
   ]
  },
  {
   "cell_type": "code",
   "execution_count": null,
   "id": "44b22bc9",
   "metadata": {},
   "outputs": [],
   "source": [
    "# Lets create a set of sample paths\n",
    "\n",
    "for i in range (0,paths):\n",
    "    price_paths.append(GBM(S0,mu,sigma,dt,time).prices)"
   ]
  },
  {
   "cell_type": "code",
   "execution_count": null,
   "id": "71ab7524",
   "metadata": {
    "scrolled": false
   },
   "outputs": [],
   "source": [
    "# Visualizing GBM\n",
    "plt.figure(figsize = (16,8))\n",
    "plt.xlabel('Days')\n",
    "plt.ylabel('Stock Price')\n",
    "plt.title('Visualization of a Geometric Brownian Motion\\n $ S_0 = 120 $ $\\mu = 0.1$ $\\sigma = 0.55$')\n",
    "\n",
    "for price_path in price_paths:\n",
    "    plt.plot(price_path)\n",
    " \n",
    "plt.savefig('BM.png',transparent = False, bbox_inches = 'tight',facecolor = 'w')\n",
    "plt.show()"
   ]
  }
 ],
 "metadata": {
  "kernelspec": {
   "display_name": "Python 3 (ipykernel)",
   "language": "python",
   "name": "python3"
  },
  "language_info": {
   "codemirror_mode": {
    "name": "ipython",
    "version": 3
   },
   "file_extension": ".py",
   "mimetype": "text/x-python",
   "name": "python",
   "nbconvert_exporter": "python",
   "pygments_lexer": "ipython3",
   "version": "3.9.12"
  }
 },
 "nbformat": 4,
 "nbformat_minor": 5
}
